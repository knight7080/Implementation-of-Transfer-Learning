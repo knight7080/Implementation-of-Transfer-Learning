{
  "nbformat": 4,
  "nbformat_minor": 0,
  "metadata": {
    "colab": {
      "provenance": [],
      "gpuType": "T4"
    },
    "kernelspec": {
      "name": "python3",
      "display_name": "Python 3"
    },
    "language_info": {
      "name": "python"
    },
    "accelerator": "GPU"
  },
  "cells": [
    {
      "cell_type": "code",
      "execution_count": null,
      "metadata": {
        "id": "3LXfwTBPq2FX"
      },
      "outputs": [],
      "source": [
        "import tensorflow as tf\n",
        "import pandas as pd\n",
        "import numpy as np\n",
        "from tensorflow.keras.datasets import cifar10\n",
        "from tensorflow.keras.applications import VGG19\n",
        "from tensorflow.keras.models import Sequential\n",
        "from tensorflow.keras.layers import Dense, Flatten, Dropout\n",
        "from tensorflow.keras.optimizers import Adam\n",
        "from sklearn import metrics\n",
        "from tensorflow.keras.callbacks import ReduceLROnPlateau"
      ]
    },
    {
      "cell_type": "code",
      "source": [
        "(x_train,y_train),(x_test,y_test)=cifar10.load_data()"
      ],
      "metadata": {
        "colab": {
          "base_uri": "https://localhost:8080/"
        },
        "id": "EqfX_ynSq8Yi",
        "outputId": "8abbc755-6e15-4ba8-e268-10bbcf0ad6cf"
      },
      "execution_count": null,
      "outputs": [
        {
          "output_type": "stream",
          "name": "stdout",
          "text": [
            "Downloading data from https://www.cs.toronto.edu/~kriz/cifar-10-python.tar.gz\n",
            "170498071/170498071 [==============================] - 6s 0us/step\n"
          ]
        }
      ]
    },
    {
      "cell_type": "code",
      "source": [
        "x_train = x_train.astype('float32') / 255.0\n",
        "x_test = x_test.astype('float32') / 255.0"
      ],
      "metadata": {
        "id": "kkrVuudZq-kT"
      },
      "execution_count": null,
      "outputs": []
    },
    {
      "cell_type": "code",
      "source": [
        "base_model = VGG19(include_top=False,weights=\"imagenet\",input_shape= (32,32,3))"
      ],
      "metadata": {
        "colab": {
          "base_uri": "https://localhost:8080/"
        },
        "id": "zt4g7e83rA8l",
        "outputId": "19397c8f-cf8b-4d21-beab-2ba3ab54270e"
      },
      "execution_count": null,
      "outputs": [
        {
          "output_type": "stream",
          "name": "stdout",
          "text": [
            "Downloading data from https://storage.googleapis.com/tensorflow/keras-applications/vgg19/vgg19_weights_tf_dim_ordering_tf_kernels_notop.h5\n",
            "80134624/80134624 [==============================] - 3s 0us/step\n"
          ]
        }
      ]
    },
    {
      "cell_type": "code",
      "source": [
        "for layer in base_model.layers:\n",
        "  layer.trainable = False"
      ],
      "metadata": {
        "id": "Tz_Plhn2ra_z"
      },
      "execution_count": null,
      "outputs": []
    },
    {
      "cell_type": "code",
      "source": [
        "model = Sequential()\n",
        "model.add(base_model)\n",
        "model.add(Flatten())\n",
        "model.add(Dense(128,activation=(\"relu\")))\n",
        "model.add(Dense(10,activation=(\"softmax\")))\n",
        "model.summary()"
      ],
      "metadata": {
        "colab": {
          "base_uri": "https://localhost:8080/"
        },
        "id": "i4-P7EnusVsK",
        "outputId": "b06d394d-7389-4933-fba0-f7b539bc02c5"
      },
      "execution_count": null,
      "outputs": [
        {
          "output_type": "stream",
          "name": "stdout",
          "text": [
            "Model: \"sequential_2\"\n",
            "_________________________________________________________________\n",
            " Layer (type)                Output Shape              Param #   \n",
            "=================================================================\n",
            " vgg19 (Functional)          (None, 1, 1, 512)         20024384  \n",
            "                                                                 \n",
            " flatten_1 (Flatten)         (None, 512)               0         \n",
            "                                                                 \n",
            " dense_5 (Dense)             (None, 128)               65664     \n",
            "                                                                 \n",
            " dense_6 (Dense)             (None, 10)                1290      \n",
            "                                                                 \n",
            "=================================================================\n",
            "Total params: 20,091,338\n",
            "Trainable params: 66,954\n",
            "Non-trainable params: 20,024,384\n",
            "_________________________________________________________________\n"
          ]
        }
      ]
    },
    {
      "cell_type": "code",
      "source": [
        "model.compile(optimizer=Adam(learning_rate=0.001), loss='sparse_categorical_crossentropy', metrics=['accuracy'])"
      ],
      "metadata": {
        "id": "wyg-ZL_0sWFc"
      },
      "execution_count": null,
      "outputs": []
    },
    {
      "cell_type": "code",
      "source": [
        "learning_rate_reduction = ReduceLROnPlateau(monitor='val_accuracy', patience=3, verbose=1, factor=0.5, min_lr=0.00001)"
      ],
      "metadata": {
        "id": "JlwityVmsos7"
      },
      "execution_count": null,
      "outputs": []
    },
    {
      "cell_type": "code",
      "source": [
        "model.fit(x_train, y_train, batch_size=64, epochs=50, validation_data=(x_test, y_test), callbacks=[learning_rate_reduction])\n"
      ],
      "metadata": {
        "colab": {
          "base_uri": "https://localhost:8080/"
        },
        "id": "ae0KSxY1syt4",
        "outputId": "1ce14558-8b73-4fac-85f3-bffd610fd9bb"
      },
      "execution_count": null,
      "outputs": [
        {
          "output_type": "stream",
          "name": "stdout",
          "text": [
            "Epoch 1/50\n",
            "782/782 [==============================] - 16s 18ms/step - loss: 1.4550 - accuracy: 0.4879 - val_loss: 1.3153 - val_accuracy: 0.5442 - lr: 0.0010\n",
            "Epoch 2/50\n",
            "782/782 [==============================] - 13s 17ms/step - loss: 1.2594 - accuracy: 0.5581 - val_loss: 1.2631 - val_accuracy: 0.5542 - lr: 0.0010\n",
            "Epoch 3/50\n",
            "782/782 [==============================] - 14s 18ms/step - loss: 1.2005 - accuracy: 0.5783 - val_loss: 1.2219 - val_accuracy: 0.5739 - lr: 0.0010\n",
            "Epoch 4/50\n",
            "782/782 [==============================] - 14s 18ms/step - loss: 1.1643 - accuracy: 0.5929 - val_loss: 1.2022 - val_accuracy: 0.5823 - lr: 0.0010\n",
            "Epoch 5/50\n",
            "782/782 [==============================] - 13s 17ms/step - loss: 1.1347 - accuracy: 0.6019 - val_loss: 1.1863 - val_accuracy: 0.5853 - lr: 0.0010\n",
            "Epoch 6/50\n",
            "782/782 [==============================] - 14s 18ms/step - loss: 1.1080 - accuracy: 0.6121 - val_loss: 1.1881 - val_accuracy: 0.5802 - lr: 0.0010\n",
            "Epoch 7/50\n",
            "782/782 [==============================] - 13s 17ms/step - loss: 1.0841 - accuracy: 0.6195 - val_loss: 1.1784 - val_accuracy: 0.5905 - lr: 0.0010\n",
            "Epoch 8/50\n",
            "782/782 [==============================] - 13s 17ms/step - loss: 1.0649 - accuracy: 0.6261 - val_loss: 1.2060 - val_accuracy: 0.5760 - lr: 0.0010\n",
            "Epoch 9/50\n",
            "782/782 [==============================] - 13s 17ms/step - loss: 1.0429 - accuracy: 0.6341 - val_loss: 1.1534 - val_accuracy: 0.5982 - lr: 0.0010\n",
            "Epoch 10/50\n",
            "782/782 [==============================] - 13s 17ms/step - loss: 1.0285 - accuracy: 0.6405 - val_loss: 1.1569 - val_accuracy: 0.6010 - lr: 0.0010\n",
            "Epoch 11/50\n",
            "782/782 [==============================] - 13s 17ms/step - loss: 1.0073 - accuracy: 0.6467 - val_loss: 1.1464 - val_accuracy: 0.6024 - lr: 0.0010\n",
            "Epoch 12/50\n",
            "782/782 [==============================] - 14s 18ms/step - loss: 0.9910 - accuracy: 0.6519 - val_loss: 1.1437 - val_accuracy: 0.6018 - lr: 0.0010\n",
            "Epoch 13/50\n",
            "782/782 [==============================] - 14s 18ms/step - loss: 0.9755 - accuracy: 0.6572 - val_loss: 1.1523 - val_accuracy: 0.6026 - lr: 0.0010\n",
            "Epoch 14/50\n",
            "782/782 [==============================] - 14s 18ms/step - loss: 0.9587 - accuracy: 0.6654 - val_loss: 1.1511 - val_accuracy: 0.6053 - lr: 0.0010\n",
            "Epoch 15/50\n",
            "782/782 [==============================] - 14s 18ms/step - loss: 0.9466 - accuracy: 0.6692 - val_loss: 1.1523 - val_accuracy: 0.6040 - lr: 0.0010\n",
            "Epoch 16/50\n",
            "782/782 [==============================] - 14s 18ms/step - loss: 0.9335 - accuracy: 0.6728 - val_loss: 1.1603 - val_accuracy: 0.6037 - lr: 0.0010\n",
            "Epoch 17/50\n",
            "782/782 [==============================] - 14s 18ms/step - loss: 0.9198 - accuracy: 0.6770 - val_loss: 1.1541 - val_accuracy: 0.6061 - lr: 0.0010\n",
            "Epoch 18/50\n",
            "782/782 [==============================] - 13s 17ms/step - loss: 0.9053 - accuracy: 0.6828 - val_loss: 1.1727 - val_accuracy: 0.6067 - lr: 0.0010\n",
            "Epoch 19/50\n",
            "782/782 [==============================] - 14s 18ms/step - loss: 0.8953 - accuracy: 0.6880 - val_loss: 1.1642 - val_accuracy: 0.6049 - lr: 0.0010\n",
            "Epoch 20/50\n",
            "782/782 [==============================] - 13s 17ms/step - loss: 0.8831 - accuracy: 0.6924 - val_loss: 1.1605 - val_accuracy: 0.6116 - lr: 0.0010\n",
            "Epoch 21/50\n",
            "782/782 [==============================] - 13s 17ms/step - loss: 0.8696 - accuracy: 0.6979 - val_loss: 1.1513 - val_accuracy: 0.6144 - lr: 0.0010\n",
            "Epoch 22/50\n",
            "782/782 [==============================] - 13s 17ms/step - loss: 0.8594 - accuracy: 0.6994 - val_loss: 1.1666 - val_accuracy: 0.6102 - lr: 0.0010\n",
            "Epoch 23/50\n",
            "782/782 [==============================] - 14s 18ms/step - loss: 0.8519 - accuracy: 0.7013 - val_loss: 1.1945 - val_accuracy: 0.6025 - lr: 0.0010\n",
            "Epoch 24/50\n",
            "781/782 [============================>.] - ETA: 0s - loss: 0.8393 - accuracy: 0.7060\n",
            "Epoch 24: ReduceLROnPlateau reducing learning rate to 0.0005000000237487257.\n",
            "782/782 [==============================] - 14s 18ms/step - loss: 0.8393 - accuracy: 0.7060 - val_loss: 1.1888 - val_accuracy: 0.6038 - lr: 0.0010\n",
            "Epoch 25/50\n",
            "782/782 [==============================] - 13s 17ms/step - loss: 0.7927 - accuracy: 0.7252 - val_loss: 1.1614 - val_accuracy: 0.6159 - lr: 5.0000e-04\n",
            "Epoch 26/50\n",
            "782/782 [==============================] - 13s 17ms/step - loss: 0.7847 - accuracy: 0.7278 - val_loss: 1.1663 - val_accuracy: 0.6125 - lr: 5.0000e-04\n",
            "Epoch 27/50\n",
            "782/782 [==============================] - 14s 18ms/step - loss: 0.7780 - accuracy: 0.7306 - val_loss: 1.1836 - val_accuracy: 0.6087 - lr: 5.0000e-04\n",
            "Epoch 28/50\n",
            "781/782 [============================>.] - ETA: 0s - loss: 0.7713 - accuracy: 0.7334\n",
            "Epoch 28: ReduceLROnPlateau reducing learning rate to 0.0002500000118743628.\n",
            "782/782 [==============================] - 13s 17ms/step - loss: 0.7713 - accuracy: 0.7334 - val_loss: 1.1884 - val_accuracy: 0.6051 - lr: 5.0000e-04\n",
            "Epoch 29/50\n",
            "782/782 [==============================] - 13s 17ms/step - loss: 0.7465 - accuracy: 0.7452 - val_loss: 1.1633 - val_accuracy: 0.6185 - lr: 2.5000e-04\n",
            "Epoch 30/50\n",
            "782/782 [==============================] - 13s 17ms/step - loss: 0.7413 - accuracy: 0.7475 - val_loss: 1.1676 - val_accuracy: 0.6163 - lr: 2.5000e-04\n",
            "Epoch 31/50\n",
            "782/782 [==============================] - 13s 17ms/step - loss: 0.7377 - accuracy: 0.7474 - val_loss: 1.1742 - val_accuracy: 0.6154 - lr: 2.5000e-04\n",
            "Epoch 32/50\n",
            "782/782 [==============================] - ETA: 0s - loss: 0.7344 - accuracy: 0.7489\n",
            "Epoch 32: ReduceLROnPlateau reducing learning rate to 0.0001250000059371814.\n",
            "782/782 [==============================] - 13s 17ms/step - loss: 0.7344 - accuracy: 0.7489 - val_loss: 1.1686 - val_accuracy: 0.6169 - lr: 2.5000e-04\n",
            "Epoch 33/50\n",
            "782/782 [==============================] - 14s 18ms/step - loss: 0.7212 - accuracy: 0.7552 - val_loss: 1.1702 - val_accuracy: 0.6178 - lr: 1.2500e-04\n",
            "Epoch 34/50\n",
            "782/782 [==============================] - 13s 17ms/step - loss: 0.7188 - accuracy: 0.7555 - val_loss: 1.1719 - val_accuracy: 0.6170 - lr: 1.2500e-04\n",
            "Epoch 35/50\n",
            "780/782 [============================>.] - ETA: 0s - loss: 0.7166 - accuracy: 0.7565\n",
            "Epoch 35: ReduceLROnPlateau reducing learning rate to 6.25000029685907e-05.\n",
            "782/782 [==============================] - 14s 18ms/step - loss: 0.7166 - accuracy: 0.7566 - val_loss: 1.1715 - val_accuracy: 0.6175 - lr: 1.2500e-04\n",
            "Epoch 36/50\n",
            "782/782 [==============================] - 14s 18ms/step - loss: 0.7097 - accuracy: 0.7594 - val_loss: 1.1709 - val_accuracy: 0.6172 - lr: 6.2500e-05\n",
            "Epoch 37/50\n",
            "782/782 [==============================] - 14s 18ms/step - loss: 0.7083 - accuracy: 0.7601 - val_loss: 1.1730 - val_accuracy: 0.6164 - lr: 6.2500e-05\n",
            "Epoch 38/50\n",
            "781/782 [============================>.] - ETA: 0s - loss: 0.7073 - accuracy: 0.7602\n",
            "Epoch 38: ReduceLROnPlateau reducing learning rate to 3.125000148429535e-05.\n",
            "782/782 [==============================] - 14s 17ms/step - loss: 0.7071 - accuracy: 0.7603 - val_loss: 1.1722 - val_accuracy: 0.6183 - lr: 6.2500e-05\n",
            "Epoch 39/50\n",
            "782/782 [==============================] - 13s 17ms/step - loss: 0.7037 - accuracy: 0.7613 - val_loss: 1.1716 - val_accuracy: 0.6188 - lr: 3.1250e-05\n",
            "Epoch 40/50\n",
            "782/782 [==============================] - 14s 18ms/step - loss: 0.7030 - accuracy: 0.7626 - val_loss: 1.1728 - val_accuracy: 0.6190 - lr: 3.1250e-05\n",
            "Epoch 41/50\n",
            "782/782 [==============================] - 13s 17ms/step - loss: 0.7024 - accuracy: 0.7622 - val_loss: 1.1731 - val_accuracy: 0.6177 - lr: 3.1250e-05\n",
            "Epoch 42/50\n",
            "782/782 [==============================] - 14s 18ms/step - loss: 0.7020 - accuracy: 0.7626 - val_loss: 1.1726 - val_accuracy: 0.6190 - lr: 3.1250e-05\n",
            "Epoch 43/50\n",
            "782/782 [==============================] - ETA: 0s - loss: 0.7014 - accuracy: 0.7640\n",
            "Epoch 43: ReduceLROnPlateau reducing learning rate to 1.5625000742147677e-05.\n",
            "782/782 [==============================] - 13s 17ms/step - loss: 0.7014 - accuracy: 0.7640 - val_loss: 1.1741 - val_accuracy: 0.6185 - lr: 3.1250e-05\n",
            "Epoch 44/50\n",
            "782/782 [==============================] - 14s 18ms/step - loss: 0.6996 - accuracy: 0.7639 - val_loss: 1.1741 - val_accuracy: 0.6185 - lr: 1.5625e-05\n",
            "Epoch 45/50\n",
            "782/782 [==============================] - 13s 17ms/step - loss: 0.6992 - accuracy: 0.7639 - val_loss: 1.1737 - val_accuracy: 0.6193 - lr: 1.5625e-05\n",
            "Epoch 46/50\n",
            "782/782 [==============================] - 14s 18ms/step - loss: 0.6990 - accuracy: 0.7634 - val_loss: 1.1739 - val_accuracy: 0.6190 - lr: 1.5625e-05\n",
            "Epoch 47/50\n",
            "782/782 [==============================] - 13s 17ms/step - loss: 0.6987 - accuracy: 0.7640 - val_loss: 1.1739 - val_accuracy: 0.6196 - lr: 1.5625e-05\n",
            "Epoch 48/50\n",
            "782/782 [==============================] - 14s 18ms/step - loss: 0.6985 - accuracy: 0.7641 - val_loss: 1.1751 - val_accuracy: 0.6182 - lr: 1.5625e-05\n",
            "Epoch 49/50\n",
            "782/782 [==============================] - 14s 18ms/step - loss: 0.6982 - accuracy: 0.7645 - val_loss: 1.1749 - val_accuracy: 0.6184 - lr: 1.5625e-05\n",
            "Epoch 50/50\n",
            "779/782 [============================>.] - ETA: 0s - loss: 0.6981 - accuracy: 0.7641\n",
            "Epoch 50: ReduceLROnPlateau reducing learning rate to 1e-05.\n",
            "782/782 [==============================] - 13s 17ms/step - loss: 0.6980 - accuracy: 0.7641 - val_loss: 1.1751 - val_accuracy: 0.6171 - lr: 1.5625e-05\n"
          ]
        },
        {
          "output_type": "execute_result",
          "data": {
            "text/plain": [
              "<keras.callbacks.History at 0x7ff9101d3eb0>"
            ]
          },
          "metadata": {},
          "execution_count": 17
        }
      ]
    },
    {
      "cell_type": "code",
      "source": [
        "metrics = pd.DataFrame(model.history.history)"
      ],
      "metadata": {
        "id": "j_xR9cu4szaa"
      },
      "execution_count": null,
      "outputs": []
    },
    {
      "cell_type": "code",
      "source": [
        "metrics[['loss','val_loss']].plot()\n",
        "     \n",
        "\n",
        "metrics[['accuracy','val_accuracy']].plot()\n",
        "     "
      ],
      "metadata": {
        "colab": {
          "base_uri": "https://localhost:8080/",
          "height": 860
        },
        "id": "MfgujhotyX-f",
        "outputId": "aba9f07b-464b-421c-bf2e-3b6472d72b2e"
      },
      "execution_count": null,
      "outputs": [
        {
          "output_type": "execute_result",
          "data": {
            "text/plain": [
              "<Axes: >"
            ]
          },
          "metadata": {},
          "execution_count": 21
        },
        {
          "output_type": "display_data",
          "data": {
            "text/plain": [
              "<Figure size 640x480 with 1 Axes>"
            ],
            "image/png": "[encoded data removed]"
          },
          "metadata": {}
        },
        {
          "output_type": "display_data",
          "data": {
            "text/plain": [
              "<Figure size 640x480 with 1 Axes>"
            ],
            "image/png": "[encoded data removed]"
          },
          "metadata": {}
        }
      ]
    },
    {
      "cell_type": "code",
      "source": [
        "pred=np.argmax(model.predict(x_test),axis=1)"
      ],
      "metadata": {
        "colab": {
          "base_uri": "https://localhost:8080/"
        },
        "id": "c0LgLOl0yh3J",
        "outputId": "a476dc20-3664-491f-d935-6b9c24f60116"
      },
      "execution_count": null,
      "outputs": [
        {
          "output_type": "stream",
          "name": "stdout",
          "text": [
            "313/313 [==============================] - 3s 9ms/step\n"
          ]
        }
      ]
    },
    {
      "cell_type": "code",
      "source": [
        "metrics.confusion_matrix(y_test,pred)"
      ],
      "metadata": {
        "colab": {
          "base_uri": "https://localhost:8080/"
        },
        "id": "m8y0tlXY0HvZ",
        "outputId": "c86a499f-d417-4fcc-c752-6b2569068bd5"
      },
      "execution_count": null,
      "outputs": [
        {
          "output_type": "execute_result",
          "data": {
            "text/plain": [
              "array([[701,  21,  50,  20,  23,  12,  15,  16, 102,  40],\n",
              "       [ 23, 676,  13,  31,  12,  18,  26,  13,  55, 133],\n",
              "       [ 60,  19, 522,  76,  88,  66,  93,  31,  27,  18],\n",
              "       [ 22,  40,  67, 450,  48, 152,  89,  52,  30,  50],\n",
              "       [ 27,  12,  75,  71, 546,  50,  95,  83,  27,  14],\n",
              "       [ 14,  24,  49, 182,  50, 523,  59,  65,  10,  24],\n",
              "       [  8,  18,  65,  59,  68,  42, 697,  15,  14,  14],\n",
              "       [ 11,  14,  46,  47,  85,  75,  25, 645,  12,  40],\n",
              "       [ 77,  56,  20,  27,  11,   6,   9,   7, 738,  49],\n",
              "       [ 44, 118,  13,  31,   9,  21,  18,  28,  45, 673]])"
            ]
          },
          "metadata": {},
          "execution_count": 30
        }
      ]
    },
    {
      "cell_type": "code",
      "source": [
        "print(metrics.classification_report(y_test,pred))"
      ],
      "metadata": {
        "colab": {
          "base_uri": "https://localhost:8080/"
        },
        "id": "085XqxnO0Oe9",
        "outputId": "bd36ec93-77ca-4c90-e656-0b0db48cba69"
      },
      "execution_count": null,
      "outputs": [
        {
          "output_type": "stream",
          "name": "stdout",
          "text": [
            "              precision    recall  f1-score   support\n",
            "\n",
            "           0       0.71      0.70      0.71      1000\n",
            "           1       0.68      0.68      0.68      1000\n",
            "           2       0.57      0.52      0.54      1000\n",
            "           3       0.45      0.45      0.45      1000\n",
            "           4       0.58      0.55      0.56      1000\n",
            "           5       0.54      0.52      0.53      1000\n",
            "           6       0.62      0.70      0.66      1000\n",
            "           7       0.68      0.65      0.66      1000\n",
            "           8       0.70      0.74      0.72      1000\n",
            "           9       0.64      0.67      0.65      1000\n",
            "\n",
            "    accuracy                           0.62     10000\n",
            "   macro avg       0.62      0.62      0.62     10000\n",
            "weighted avg       0.62      0.62      0.62     10000\n",
            "\n"
          ]
        }
      ]
    },
    {
      "cell_type": "code",
      "source": [],
      "metadata": {
        "id": "iEM1_yoI2KaW"
      },
      "execution_count": null,
      "outputs": []
    }
  ]
}